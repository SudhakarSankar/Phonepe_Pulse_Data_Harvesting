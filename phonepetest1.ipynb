{
 "cells": [
  {
   "cell_type": "markdown",
   "metadata": {},
   "source": [
    "### This file(phonepetest2) is used to see the visual representation of the data"
   ]
  },
  {
   "cell_type": "code",
   "execution_count": 8,
   "metadata": {},
   "outputs": [],
   "source": [
    "import pandas as pd\n",
    "import psycopg2\n",
    "import plotly.express as px\n",
    "import requests\n",
    "import json"
   ]
  },
  {
   "cell_type": "code",
   "execution_count": 9,
   "metadata": {},
   "outputs": [],
   "source": [
    "# Database creation \n",
    "#SQL Connection\n",
    "postgres_connection = psycopg2.connect(host = 'localhost',\n",
    "                                       user = 'postgres',\n",
    "                                       password = 'sudhakar',\n",
    "                                       database = 'phonepe_data',\n",
    "                                       port = 5432)\n",
    "postgres_cursor = postgres_connection.cursor()\n"
   ]
  },
  {
   "cell_type": "code",
   "execution_count": 10,
   "metadata": {},
   "outputs": [],
   "source": [
    "# Aggregate insurance dataframe\n",
    "postgres_cursor.execute('SELECT * from aggregated_insurance')\n",
    "postgres_connection.commit()\n",
    "aggregated_insurance_data = postgres_cursor.fetchall()\n",
    "AGGRE_INSURANCE = pd.DataFrame(aggregated_insurance_data, columns = ('States', 'Years', 'Quarters', 'Transaction_type', \n",
    "                                                                     'Transaction_count', 'Transaction_amount'))\n",
    "\n",
    "# Aggregate transaction dataframe\n",
    "postgres_cursor.execute('SELECT * from aggregated_transaction')\n",
    "postgres_connection.commit()\n",
    "aggregated_transaction_data = postgres_cursor.fetchall()\n",
    "AGGRE_TRANSACTION = pd.DataFrame(aggregated_transaction_data, columns = ('States', 'Years', 'Quarters', 'Transaction_type', \n",
    "                                                                     'Transaction_count', 'Transaction_amount'))\n",
    "\n",
    "# Aggregate user dataframe\n",
    "postgres_cursor.execute('SELECT * from aggregated_user')\n",
    "postgres_connection.commit()\n",
    "aggregated_user_data = postgres_cursor.fetchall()\n",
    "AGGRE_USER = pd.DataFrame(aggregated_user_data, columns = ('States', 'Years', 'Quarters', 'Brands', 'Count', 'Percentage'))"
   ]
  },
  {
   "cell_type": "code",
   "execution_count": 11,
   "metadata": {},
   "outputs": [],
   "source": [
    "# Map insurance dataframe\n",
    "postgres_cursor.execute('SELECT * from map_insurance')\n",
    "postgres_connection.commit()\n",
    "map_insurance_data = postgres_cursor.fetchall()\n",
    "MAP_INSURANCE = pd.DataFrame(map_insurance_data, columns = ('States', 'Years', 'Quarters', 'District', \n",
    "                                                            'Transaction_count', 'Transaction_amount'))\n",
    "\n",
    "# Map transaction dataframe\n",
    "postgres_cursor.execute('SELECT * from map_transaction')\n",
    "postgres_connection.commit()\n",
    "map_transaction_data = postgres_cursor.fetchall()\n",
    "MAP_TRANSACTION = pd.DataFrame(map_transaction_data, columns = ('States', 'Years', 'Quarters', 'District', \n",
    "                                                            'Transaction_count', 'Transaction_amount'))\n",
    "\n",
    "# Map user dataframe\n",
    "postgres_cursor.execute('SELECT * from map_user')\n",
    "postgres_connection.commit()\n",
    "map_user_data = postgres_cursor.fetchall()\n",
    "MAP_USER = pd.DataFrame(map_user_data, columns = ('States', 'Years', 'Quarters', 'District', \n",
    "                                                  'RegisteredUsers_count', 'AppOpens_count'))"
   ]
  },
  {
   "cell_type": "code",
   "execution_count": 12,
   "metadata": {},
   "outputs": [],
   "source": [
    "# Top insurance dataframe\n",
    "postgres_cursor.execute('SELECT * from top_insurance')\n",
    "postgres_connection.commit()\n",
    "top_insurance_data = postgres_cursor.fetchall()\n",
    "TOP_INSURANCE = pd.DataFrame(top_insurance_data, columns = ('States', 'Years', 'Quarters', 'Pincode', 'Transaction_count', 'Transaction_amount'))\n",
    "\n",
    "\n",
    "# Top transaction dataframe\n",
    "postgres_cursor.execute('SELECT * from top_transaction')\n",
    "postgres_connection.commit()\n",
    "top_transaction_data = postgres_cursor.fetchall()\n",
    "TOP_TRANSACTION = pd.DataFrame(top_transaction_data, columns = ('States', 'Years', 'Quarters', 'Pincode', 'Transaction_count', 'Transaction_amount'))\n",
    "\n",
    "\n",
    "# Top user dataframe\n",
    "postgres_cursor.execute('SELECT * from top_user')\n",
    "postgres_connection.commit()\n",
    "top_user_data = postgres_cursor.fetchall()\n",
    "TOP_USER = pd.DataFrame(top_user_data, columns = ('States', 'Years', 'Quarters', 'Pincode', 'RegisteredUsers'))"
   ]
  },
  {
   "cell_type": "code",
   "execution_count": 13,
   "metadata": {},
   "outputs": [],
   "source": [
    "# TOP_USER"
   ]
  },
  {
   "cell_type": "code",
   "execution_count": 14,
   "metadata": {},
   "outputs": [],
   "source": [
    "def Top_Chart_Transaction_Amount(Table_Name):\n",
    "    #SQL Connection\n",
    "    postgres_connection = psycopg2.connect(host = 'localhost',\n",
    "                                        user = 'postgres',\n",
    "                                        password = 'sudhakar',\n",
    "                                        database = 'phonepe_data',\n",
    "                                        port = 5432)\n",
    "    postgres_cursor = postgres_connection.cursor()\n",
    "\n",
    "\n",
    "    # Plot_1\n",
    "    Query_1 = f'''select States, sum(Transaction_amount) as Transaction_amount\n",
    "                    from {Table_Name} \n",
    "                    group by States\n",
    "                    order by Transaction_amount desc\n",
    "                    limit 10'''\n",
    "                \n",
    "    postgres_cursor.execute(Query_1)\n",
    "    Table_1 = postgres_cursor.fetchall()\n",
    "    postgres_connection.commit()\n",
    "\n",
    "    Df_1 = pd.DataFrame(Table_1, columns= ('States','Transaction_amount'))\n",
    "    Figure_Amt_1 = px.bar(Df_1, x= 'States', y= 'Transaction_amount', title= 'TOP 10 TRANSACTION AMOUNT',\n",
    "                            color_discrete_sequence= px.colors.sequential.Purples_r)\n",
    "    Figure_Amt_1.show()\n",
    "\n",
    "    # Plot_2\n",
    "    Query_2 = f'''select States, sum(Transaction_amount) as Transaction_amount\n",
    "                    from {Table_Name} \n",
    "                    group by States\n",
    "                    order by Transaction_amount\n",
    "                    limit 10'''\n",
    "                \n",
    "    postgres_cursor.execute(Query_2)\n",
    "    Table_2 = postgres_cursor.fetchall()\n",
    "    postgres_connection.commit()\n",
    "\n",
    "    Df_2 = pd.DataFrame(Table_2, columns= ('States','Transaction_amount'))\n",
    "    Figure_Amt_2 = px.bar(Df_2, x= 'States', y= 'Transaction_amount', title= 'LEAST 10 TRANSACTION AMOUNT')\n",
    "    Figure_Amt_2.show()\n",
    "\n",
    "    # Plot_3\n",
    "    Query_3 = f'''select States, avg(Transaction_amount) as Transaction_amount\n",
    "                    from {Table_Name} \n",
    "                    group by States\n",
    "                    order by Transaction_amount'''\n",
    "                \n",
    "    postgres_cursor.execute(Query_3)\n",
    "    Table_3 = postgres_cursor.fetchall()\n",
    "    postgres_connection.commit()\n",
    "\n",
    "    Df_3 = pd.DataFrame(Table_3, columns= ('States','Transaction_amount'))\n",
    "    Figure_Amt_3 = px.bar(Df_3, x= 'States', y= 'Transaction_amount', title= 'AVERAGE TRANSACTION AMOUNT', height= 800)\n",
    "    Figure_Amt_3.show()"
   ]
  },
  {
   "cell_type": "code",
   "execution_count": 15,
   "metadata": {},
   "outputs": [],
   "source": [
    "# Top_Chart_Transaction_Amount('map_insurance')"
   ]
  },
  {
   "cell_type": "code",
   "execution_count": 16,
   "metadata": {},
   "outputs": [],
   "source": [
    "def Top_Chart_Transaction_Count(Table_Name):\n",
    "    # Plot_1\n",
    "    Query_1 = f'''select States, sum(Transaction_count) as Transaction_count\n",
    "                    from {Table_Name} \n",
    "                    group by States\n",
    "                    order by Transaction_count desc\n",
    "                    limit 10'''\n",
    "                \n",
    "    postgres_cursor.execute(Query_1)\n",
    "    Table_1 = postgres_cursor.fetchall()\n",
    "    postgres_connection.commit()\n",
    "\n",
    "    Df_1 = pd.DataFrame(Table_1, columns= ('States','Transaction_count'))\n",
    "    Figure_Amt_1 = px.bar(Df_1, x= 'States', y= 'Transaction_count', title= 'TOP 10 TRANSACTION COUNT',\n",
    "                            color_discrete_sequence= px.colors.sequential.Purples_r)\n",
    "    Figure_Amt_1.show()\n",
    "\n",
    "    # Plot_2\n",
    "    Query_2 = f'''select States, sum(Transaction_count) as Transaction_count\n",
    "                    from {Table_Name} \n",
    "                    group by States\n",
    "                    order by Transaction_count\n",
    "                    limit 10'''\n",
    "                \n",
    "    postgres_cursor.execute(Query_2)\n",
    "    Table_2 = postgres_cursor.fetchall()\n",
    "    postgres_connection.commit()\n",
    "\n",
    "    Df_2 = pd.DataFrame(Table_2, columns= ('States','Transaction_count'))\n",
    "    Figure_Amt_2 = px.bar(Df_2, x= 'States', y= 'Transaction_count', title= 'LEAST 10 TRANSACTION COUNT')\n",
    "    Figure_Amt_2.show()\n",
    "\n",
    "    # Plot_3\n",
    "    Query_3 = f'''select States, avg(Transaction_count) as Transaction_count\n",
    "                    from {Table_Name} \n",
    "                    group by States\n",
    "                    order by Transaction_count'''\n",
    "                \n",
    "    postgres_cursor.execute(Query_3)\n",
    "    Table_3 = postgres_cursor.fetchall()\n",
    "    postgres_connection.commit()\n",
    "\n",
    "    Df_3 = pd.DataFrame(Table_3, columns= ('States','Transaction_count'))\n",
    "    Figure_Amt_3 = px.bar(Df_3, x= 'States', y= 'Transaction_count', title= 'AVERAGE TRANSACTION COUNT', height= 800)\n",
    "    Figure_Amt_3.show()"
   ]
  },
  {
   "cell_type": "code",
   "execution_count": 17,
   "metadata": {},
   "outputs": [],
   "source": [
    "def Top_Chart_Transaction_RegisteredUsers_count(Table_Name, State):\n",
    "    # Plot_1\n",
    "    Query_1 = f'''select District, sum(RegisteredUsers_count) as RegisteredUsers_count \n",
    "                    from {Table_Name}  where States = '{State}'\n",
    "                    group by District order by RegisteredUsers_count desc limit 10'''\n",
    "                \n",
    "    postgres_cursor.execute(Query_1)\n",
    "    Table_1 = postgres_cursor.fetchall()\n",
    "    postgres_connection.commit()\n",
    "\n",
    "    Df_1 = pd.DataFrame(Table_1, columns= ('District','RegisteredUsers_count'))\n",
    "    Figure_Reg_User_1 = px.bar(Df_1, x= 'District', y= 'RegisteredUsers_count', title= 'TOP 10 REGISTERED USER',\n",
    "                            color_discrete_sequence= px.colors.sequential.Purples_r)\n",
    "    Figure_Reg_User_1.show()\n",
    "\n",
    "    # Plot_2\n",
    "    Query_2 = f'''select District, sum(RegisteredUsers_count) as RegisteredUsers_count \n",
    "                   from {Table_Name}  where States = '{State}'\n",
    "                    group by District order by RegisteredUsers_count asc limit 10'''\n",
    "                \n",
    "    postgres_cursor.execute(Query_2)\n",
    "    Table_2 = postgres_cursor.fetchall()\n",
    "    postgres_connection.commit()\n",
    "\n",
    "    Df_2 = pd.DataFrame(Table_2, columns= ('District','RegisteredUsers_count'))\n",
    "    Figure_Reg_User_2 = px.bar(Df_2, x= 'District', y= 'RegisteredUsers_count', title= 'LEAST 10 REGISTERED USER')\n",
    "    Figure_Reg_User_2.show()\n",
    "\n",
    "    # Plot_3\n",
    "    Query_3 = f'''select District, avg(RegisteredUsers_count) as RegisteredUsers_count \n",
    "                    from {Table_Name}  where States = '{State}'\n",
    "                    group by District order by RegisteredUsers_count desc '''\n",
    "                \n",
    "    postgres_cursor.execute(Query_3)\n",
    "    Table_3 = postgres_cursor.fetchall()\n",
    "    postgres_connection.commit()\n",
    "\n",
    "    Df_3 = pd.DataFrame(Table_3, columns= ('District','RegisteredUsers_count'))\n",
    "    Figure_Reg_User_3 = px.bar(Df_3, x= 'District', y= 'RegisteredUsers_count', title= 'AVERAGE REGISTERED USER', height= 800)\n",
    "    Figure_Reg_User_3.show()"
   ]
  },
  {
   "cell_type": "code",
   "execution_count": 18,
   "metadata": {},
   "outputs": [],
   "source": [
    "# Top_Chart_Transaction_RegisteredUsers_count('map_user', 'Tamil Nadu')"
   ]
  },
  {
   "cell_type": "code",
   "execution_count": 19,
   "metadata": {},
   "outputs": [],
   "source": [
    "def Top_Chart_Transaction_AppOpens_count(Table_Name, State):\n",
    "    # Plot_1\n",
    "    Query_1 = f'''select District, sum(AppOpens_count) as AppOpens_count \n",
    "                    from {Table_Name}  where States = '{State}'\n",
    "                    group by District order by AppOpens_count desc limit 10'''\n",
    "                \n",
    "    postgres_cursor.execute(Query_1)\n",
    "    Table_1 = postgres_cursor.fetchall()\n",
    "    postgres_connection.commit()\n",
    "\n",
    "    Df_1 = pd.DataFrame(Table_1, columns= ('District','AppOpens_count'))\n",
    "    Figure_App_opens_Count_1 = px.bar(Df_1, x= 'District', y= 'AppOpens_count', title= 'TOP 10 APP OPENS COUNT',\n",
    "                                        color_discrete_sequence= px.colors.sequential.Purples_r)\n",
    "    Figure_App_opens_Count_1.show()\n",
    "\n",
    "    # Plot_2\n",
    "    Query_2 = f'''select District, sum(AppOpens_count) as AppOpens_count \n",
    "                   from {Table_Name}  where States = '{State}'\n",
    "                    group by District order by AppOpens_count asc limit 10'''\n",
    "                \n",
    "    postgres_cursor.execute(Query_2)\n",
    "    Table_2 = postgres_cursor.fetchall()\n",
    "    postgres_connection.commit()\n",
    "\n",
    "    Df_2 = pd.DataFrame(Table_2, columns= ('District','AppOpens_count'))\n",
    "    Figure_App_opens_Count_2 = px.bar(Df_2, x= 'District', y= 'AppOpens_count', title= 'LEAST 10 APP OPENS COUNT')\n",
    "    Figure_App_opens_Count_2.show()\n",
    "\n",
    "    # Plot_3\n",
    "    Query_3 = f'''select District, avg(AppOpens_count) as AppOpens_count \n",
    "                    from {Table_Name}  where States = '{State}'\n",
    "                    group by District order by AppOpens_count desc '''\n",
    "                \n",
    "    postgres_cursor.execute(Query_3)\n",
    "    Table_3 = postgres_cursor.fetchall()\n",
    "    postgres_connection.commit()\n",
    "\n",
    "    Df_3 = pd.DataFrame(Table_3, columns= ('District','AppOpens_count'))\n",
    "    Figure_App_opens_Count_3 = px.bar(Df_3, x= 'District', y= 'AppOpens_count', title= 'AVERAGE APP OPENS COUNT', height= 800)\n",
    "    Figure_App_opens_Count_3.show()"
   ]
  },
  {
   "cell_type": "code",
   "execution_count": 20,
   "metadata": {},
   "outputs": [],
   "source": [
    "# Top_Chart_Transaction_AppOpens_count('map_user', 'Tamil Nadu')"
   ]
  },
  {
   "cell_type": "code",
   "execution_count": 21,
   "metadata": {},
   "outputs": [],
   "source": [
    "def Top_Chart_Transaction_Top_RegisteredUsers_count(Table_Name, State):\n",
    "    # Plot_1\n",
    "    Query_1 = f'''select District, sum(RegisteredUsers_count) as RegisteredUsers_count \n",
    "                    from {Table_Name}  where States = '{State}'\n",
    "                    group by District order by RegisteredUsers_count desc limit 10'''\n",
    "                \n",
    "    postgres_cursor.execute(Query_1)\n",
    "    Table_1 = postgres_cursor.fetchall()\n",
    "    postgres_connection.commit()\n",
    "\n",
    "    Df_1 = pd.DataFrame(Table_1, columns= ('District','RegisteredUsers_count'))\n",
    "    Figure_Reg_User_1 = px.bar(Df_1, x= 'District', y= 'RegisteredUsers_count', title= 'TOP 10 REGISTERED USER',\n",
    "                            color_discrete_sequence= px.colors.sequential.Purples_r)\n",
    "    Figure_Reg_User_1.show()\n",
    "\n",
    "    # Plot_2\n",
    "    Query_2 = f'''select District, sum(RegisteredUsers_count) as RegisteredUsers_count \n",
    "                   from {Table_Name}  where States = '{State}'\n",
    "                    group by District order by RegisteredUsers_count asc limit 10'''\n",
    "                \n",
    "    postgres_cursor.execute(Query_2)\n",
    "    Table_2 = postgres_cursor.fetchall()\n",
    "    postgres_connection.commit()\n",
    "\n",
    "    Df_2 = pd.DataFrame(Table_2, columns= ('District','RegisteredUsers_count'))\n",
    "    Figure_Reg_User_2 = px.bar(Df_2, x= 'District', y= 'RegisteredUsers_count', title= 'LEAST 10 REGISTERED USER')\n",
    "    Figure_Reg_User_2.show()\n",
    "\n",
    "    # Plot_3\n",
    "    Query_3 = f'''select District, avg(RegisteredUsers_count) as RegisteredUsers_count \n",
    "                    from {Table_Name}  where States = '{State}'\n",
    "                    group by District order by RegisteredUsers_count desc '''\n",
    "                \n",
    "    postgres_cursor.execute(Query_3)\n",
    "    Table_3 = postgres_cursor.fetchall()\n",
    "    postgres_connection.commit()\n",
    "\n",
    "    Df_3 = pd.DataFrame(Table_3, columns= ('District','RegisteredUsers_count'))\n",
    "    Figure_Reg_User_3 = px.bar(Df_3, x= 'District', y= 'RegisteredUsers_count', title= 'AVERAGE REGISTERED USER', height= 800)\n",
    "    Figure_Reg_User_3.show()"
   ]
  },
  {
   "cell_type": "code",
   "execution_count": 22,
   "metadata": {},
   "outputs": [],
   "source": [
    "def Top_Chart_RegisteredUsers_count(Table_Name):\n",
    "    # Plot_1\n",
    "    Query_1 = f'''select States, sum(RegisteredUsers) as RegisteredUsers \n",
    "                    from {Table_Name}\n",
    "                    group by states order by RegisteredUsers desc limit 10'''\n",
    "                \n",
    "    postgres_cursor.execute(Query_1)\n",
    "    Table_1 = postgres_cursor.fetchall()\n",
    "    postgres_connection.commit()\n",
    "\n",
    "    Df_1 = pd.DataFrame(Table_1, columns= ('States','RegisteredUsers'))\n",
    "    Figure_Reg_User_1 = px.bar(Df_1, x= 'States', y= 'RegisteredUsers', title= 'TOP 10 REGISTERED USER',\n",
    "                            color_discrete_sequence= px.colors.sequential.Purples_r)\n",
    "    Figure_Reg_User_1.show()\n",
    "\n",
    "    # Plot_2\n",
    "    Query_2 = f'''select States, sum(RegisteredUsers) as RegisteredUsers \n",
    "                    from {Table_Name}\n",
    "                    group by states order by RegisteredUsers asc limit 10'''\n",
    "                \n",
    "    postgres_cursor.execute(Query_2)\n",
    "    Table_2 = postgres_cursor.fetchall()\n",
    "    postgres_connection.commit()\n",
    "\n",
    "    Df_2 = pd.DataFrame(Table_2, columns= ('States','RegisteredUsers'))\n",
    "    Figure_Reg_User_2 = px.bar(Df_2, x= 'States', y= 'RegisteredUsers', title= 'LEAST 10 REGISTERED USER')\n",
    "    Figure_Reg_User_2.show()\n",
    "\n",
    "    # Plot_3\n",
    "    Query_3 = f'''select States, avg(RegisteredUsers) as RegisteredUsers \n",
    "                    from {Table_Name}\n",
    "                    group by states order by RegisteredUsers asc'''\n",
    "                \n",
    "    postgres_cursor.execute(Query_3)\n",
    "    Table_3 = postgres_cursor.fetchall()\n",
    "    postgres_connection.commit()\n",
    "\n",
    "    Df_3 = pd.DataFrame(Table_3, columns= ('States','RegisteredUsers'))\n",
    "    Figure_Reg_User_3 = px.bar(Df_3, x= 'States', y= 'RegisteredUsers', title= 'AVERAGE REGISTERED USER', height= 800)\n",
    "    Figure_Reg_User_3.show()"
   ]
  },
  {
   "cell_type": "code",
   "execution_count": 23,
   "metadata": {},
   "outputs": [],
   "source": [
    "# Top_Chart_RegisteredUsers_count('top_user')"
   ]
  },
  {
   "cell_type": "code",
   "execution_count": 24,
   "metadata": {},
   "outputs": [],
   "source": [
    "#Transaction year based\n",
    "def Transaction_of_Amount_Count_Year(df, year):\n",
    "    Tra_Amo_Cou_Year = df[df['Years'] == year]\n",
    "    Tra_Amo_Cou_Year.reset_index(drop= True, inplace= True)\n",
    "\n",
    "    Tra_Amo_Cou_Year_Group = Tra_Amo_Cou_Year.groupby('States')[['Transaction_count', 'Transaction_amount']].sum()\n",
    "    Tra_Amo_Cou_Year_Group.reset_index(inplace= True)\n",
    "\n",
    "    Figure_Amt = px.bar(Tra_Amo_Cou_Year_Group, x= 'States', y= 'Transaction_amount', title= f'{year} TRANSACTION AMOUNT',\n",
    "                        color_discrete_sequence= px.colors.sequential.Purples_r)\n",
    "    Figure_Amt.show()\n",
    "\n",
    "    Figure_Count = px.bar(Tra_Amo_Cou_Year_Group, x= 'States', y= 'Transaction_count', title= f'{year} TRANSACTION COUNT',\n",
    "                        color_discrete_sequence= px.colors.sequential.Rainbow)\n",
    "    Figure_Count.show()\n",
    "    \n",
    "    url = 'https://gist.githubusercontent.com/jbrobst/56c13bbbf9d97d187fea01ca62ea5112/raw/e388c4cae20aa53cb5090210a42ebb9b765c0a36/india_states.geojson'\n",
    "    response = requests.get(url)\n",
    "    world_data1 = json.loads(response.content)\n",
    "    States_name = []\n",
    "    for i in world_data1['features']:\n",
    "        States_name.append(i['properties']['ST_NM'])\n",
    "    States_name.sort()\n",
    "\n",
    "    India_figure_amt = px.choropleth(Tra_Amo_Cou_Year_Group, geojson=world_data1, locations='States', featureidkey='properties.ST_NM',\n",
    "                                    color='Transaction_amount', color_continuous_scale='rainbow', \n",
    "                                    range_color=(Tra_Amo_Cou_Year_Group['Transaction_amount'].min(), Tra_Amo_Cou_Year_Group['Transaction_amount'].max()), # Corrected line\n",
    "                                    hover_name='States', title=f'{year} TRANSACTION AMOUNT', fitbounds='locations',\n",
    "                                    height=600, width=600)\n",
    "    India_figure_amt.update_geos(visible = False)\n",
    "    India_figure_amt.show()\n",
    "    \n",
    "    India_figure_count = px.choropleth(Tra_Amo_Cou_Year_Group, geojson=world_data1, locations='States', featureidkey='properties.ST_NM',\n",
    "                                    color='Transaction_count', color_continuous_scale='rainbow', \n",
    "                                    range_color=(Tra_Amo_Cou_Year_Group['Transaction_count'].min(), Tra_Amo_Cou_Year_Group['Transaction_count'].max()), # Corrected line\n",
    "                                    hover_name='States', title=f'{year} TRANSACTION COUNT', fitbounds='locations',\n",
    "                                    height=600, width=600)\n",
    "    India_figure_count.update_geos(visible = False)\n",
    "    India_figure_count.show()\n",
    "    \n",
    "    return Tra_Amo_Cou_Year\n",
    "    \n",
    "    "
   ]
  },
  {
   "cell_type": "code",
   "execution_count": 25,
   "metadata": {},
   "outputs": [],
   "source": [
    "#Transaction quarter based\n",
    "def Transaction_of_Amount_Count_Year_Quarter(df, Quarter):\n",
    "    Tra_Amo_Cou_Year_Quarter = df[df['Quarters'] == Quarter]\n",
    "    Tra_Amo_Cou_Year_Quarter.reset_index(drop= True, inplace= True)\n",
    "\n",
    "    Tra_Amo_Cou_Year_Quarter_Group = Tra_Amo_Cou_Year_Quarter.groupby('States')[['Transaction_count', 'Transaction_amount']].sum()\n",
    "    Tra_Amo_Cou_Year_Quarter_Group.reset_index(inplace= True)\n",
    "\n",
    "    \n",
    "    India_figure_amt = px.bar(Tra_Amo_Cou_Year_Quarter_Group, x= 'States', y= 'Transaction_amount', title= f\"{Tra_Amo_Cou_Year_Quarter['Years'].min()} Year {Quarter} Quarter TRANSACTION AMOUNT\",\n",
    "                        color_discrete_sequence= px.colors.sequential.Purples_r)\n",
    "    India_figure_amt.show()\n",
    "        \n",
    "    India_figure_count = px.bar(Tra_Amo_Cou_Year_Quarter_Group, x= 'States', y= 'Transaction_count', title= f\"{Tra_Amo_Cou_Year_Quarter['Years'].min()} Year {Quarter} TRANSACTION COUNT\",\n",
    "                        color_discrete_sequence= px.colors.sequential.Rainbow)\n",
    "    India_figure_count.show()\n",
    "    \n",
    "    url = 'https://gist.githubusercontent.com/jbrobst/56c13bbbf9d97d187fea01ca62ea5112/raw/e388c4cae20aa53cb5090210a42ebb9b765c0a36/india_states.geojson'\n",
    "    response = requests.get(url)\n",
    "    world_data1 = json.loads(response.content)\n",
    "    States_name = []\n",
    "    for i in world_data1['features']:\n",
    "        States_name.append(i['properties']['ST_NM'])\n",
    "    States_name.sort()\n",
    "\n",
    "    India_figure_amt = px.choropleth(Tra_Amo_Cou_Year_Quarter_Group, geojson=world_data1, locations='States', featureidkey='properties.ST_NM',\n",
    "                                    color='Transaction_amount', color_continuous_scale='rainbow', \n",
    "                                    range_color=(Tra_Amo_Cou_Year_Quarter_Group['Transaction_amount'].min(), Tra_Amo_Cou_Year_Quarter_Group['Transaction_amount'].max()), # Corrected line\n",
    "                                    hover_name='States', title=f\"{Tra_Amo_Cou_Year_Quarter['Years'].min()} Year {Quarter} TRANSACTION AMOUNT\", fitbounds='locations',\n",
    "                                    height=600, width=600)\n",
    "    India_figure_amt.update_geos(visible = False)\n",
    "    India_figure_amt.show()\n",
    "    \n",
    "    India_figure_count = px.choropleth(Tra_Amo_Cou_Year_Quarter_Group, geojson=world_data1, locations='States', featureidkey='properties.ST_NM',\n",
    "                                    color='Transaction_count', color_continuous_scale='rainbow', \n",
    "                                    range_color=(Tra_Amo_Cou_Year_Quarter_Group['Transaction_count'].min(), Tra_Amo_Cou_Year_Quarter_Group['Transaction_count'].max()), # Corrected line\n",
    "                                    hover_name='States', title=f\"{Tra_Amo_Cou_Year_Quarter['Years'].min()} Year {Quarter} TRANSACTION COUNT\", fitbounds='locations',\n",
    "                                    height=600, width=600)\n",
    "    India_figure_count.update_geos(visible = False)\n",
    "    India_figure_count.show()\n",
    "        \n",
    "    return Tra_Amo_Cou_Year_Quarter\n",
    "\n",
    "    "
   ]
  },
  {
   "cell_type": "code",
   "execution_count": 26,
   "metadata": {},
   "outputs": [],
   "source": [
    "#Transaction Type based\n",
    "def Aggre_Trans_Transaction_Type(Aggre_Trans_T_A_C_Y, state):\n",
    "    Tra_Amo_Cou_Year_Type = Aggre_Trans_T_A_C_Y[Aggre_Trans_T_A_C_Y['States'] == state]\n",
    "    Tra_Amo_Cou_Year_Type.reset_index(drop= True, inplace= True)\n",
    "\n",
    "    Tra_Amo_Cou_Year_Type_Group = Tra_Amo_Cou_Year_Type.groupby('Transaction_type')[['Transaction_count', 'Transaction_amount']].sum()\n",
    "    Tra_Amo_Cou_Year_Type_Group.reset_index(inplace= True)\n",
    "\n",
    "    Figure_Amt_pie = px.pie(data_frame= Tra_Amo_Cou_Year_Type_Group, names= 'Transaction_type', values= 'Transaction_amount',\n",
    "                        width= 800, title= f'{state.upper()} TRANSACTION AMOUNT', hole= 0.2)\n",
    "    Figure_Amt_pie.show()\n",
    "\n",
    "    Figure_Count_pie = px.pie(data_frame= Tra_Amo_Cou_Year_Type_Group, names= 'Transaction_type', values= 'Transaction_count',\n",
    "                            width= 800, title= f'{state.upper()} TRANSACTION COUNT', hole= 0.2)\n",
    "    Figure_Count_pie.show()"
   ]
  },
  {
   "cell_type": "code",
   "execution_count": 27,
   "metadata": {},
   "outputs": [],
   "source": [
    "# Aggre user year wise\n",
    "def Aggre_User_Year_Wise_Plot(df, year):\n",
    "    Aggre_User_Year = df[df['Years'] == year]\n",
    "    Aggre_User_Year.reset_index(drop= True, inplace= True)\n",
    "\n",
    "    Aggre_User_Year_Group =pd.DataFrame(Aggre_User_Year.groupby('Brands')['Count'].sum())\n",
    "    Aggre_User_Year_Group.reset_index(inplace=True)\n",
    "\n",
    "    Figure_Count_bar = px.bar(Aggre_User_Year_Group, x = 'Brands', y = 'Count', title= 'BRANDS AND TRANSACTION COUNT',\n",
    "                            width= 800, color_discrete_sequence= px.colors.sequential.Pinkyl_r)\n",
    "    Figure_Count_bar.show()\n",
    "    \n",
    "    return Aggre_User_Year"
   ]
  },
  {
   "cell_type": "code",
   "execution_count": 28,
   "metadata": {},
   "outputs": [],
   "source": [
    "# Aggre user quarter wise\n",
    "def Aggre_User_Quarter_Wise_Plot(df, Quarter):\n",
    "    Aggre_User_Year_Quarter = df[df['Quarters'] == Quarter]\n",
    "    Aggre_User_Year_Quarter.reset_index(drop= True, inplace= True)\n",
    "\n",
    "    Aggre_User_Year_Quarter_Group = pd.DataFrame(Aggre_User_Year_Quarter.groupby('Brands')['Count'].sum())\n",
    "    Aggre_User_Year_Quarter_Group.reset_index(inplace= True)\n",
    "\n",
    "    Figure_count_bar = px.bar(Aggre_User_Year_Quarter_Group, x = 'Brands', y = 'Count', title= f'{Quarter} Quarter BRANDS AND TRANSACTION COUNT',\n",
    "                            width= 800, color_discrete_sequence= px.colors.sequential.Pinkyl_r)\n",
    "    Figure_count_bar.show()\n",
    "\n",
    "    return Aggre_User_Year_Quarter"
   ]
  },
  {
   "cell_type": "code",
   "execution_count": 29,
   "metadata": {},
   "outputs": [],
   "source": [
    "# Aggre user state wise\n",
    "def Aggre_User_State_Wise_Plot(df, state):\n",
    "    Aggre_User_Y_Q_S = df[df['States'] == state]\n",
    "    Aggre_User_Y_Q_S.reset_index(drop= True, inplace= True)\n",
    "\n",
    "    Figure_count_line = px.line(Aggre_User_Y_Q_S, x = 'Brands', y = 'Count', hover_data= 'Percentage',\n",
    "                                title= 'BRANDS, TRANSACTION COUNT AND PERCENTAGE', width= 800, markers= True)\n",
    "                            \n",
    "    Figure_count_line.show()\n",
    "\n",
    "    # return Aggre_User_Y_Q_S"
   ]
  },
  {
   "cell_type": "code",
   "execution_count": 30,
   "metadata": {},
   "outputs": [],
   "source": [
    "# Map Insurance District  based\n",
    "def Map_Insurance_District(df, state):\n",
    "    Tra_Amo_Cou_Year_District = df[df['States'] == state]\n",
    "    Tra_Amo_Cou_Year_District.reset_index(drop= True, inplace= True)\n",
    "\n",
    "    Tra_Amo_Cou_Year_District_Group = Tra_Amo_Cou_Year_District.groupby('District')[['Transaction_count', 'Transaction_amount']].sum()\n",
    "    Tra_Amo_Cou_Year_District_Group.reset_index(inplace= True)\n",
    "\n",
    "    Figure_Amt_pie = px.bar(Tra_Amo_Cou_Year_District_Group, x= 'District', y= 'Transaction_amount',title= f'{state.upper()} DISTRICT AND TRANSACTION AMOUNT')                      \n",
    "    Figure_Amt_pie.show()\n",
    "\n",
    "    Figure_Count_pie = px.bar(Tra_Amo_Cou_Year_District_Group, x= 'District', y= 'Transaction_count',\n",
    "                              title= f'{state.upper()} DISTRICT AND TRANSACTION COUNT', color_discrete_sequence=px.colors.sequential.Magenta_r)                       \n",
    "    Figure_Count_pie.show()"
   ]
  },
  {
   "cell_type": "code",
   "execution_count": 31,
   "metadata": {},
   "outputs": [],
   "source": [
    "# map user year wise\n",
    "def Map_User_Year_Wise_Plot(df, year):\n",
    "    Map_User_Year = df[df['Years'] == year]\n",
    "    Map_User_Year.reset_index(drop= True, inplace= True)\n",
    "\n",
    "    Map_User_Year_Group =pd.DataFrame(Map_User_Year.groupby('States')[['RegisteredUsers_count', 'AppOpens_count']].sum())\n",
    "    Map_User_Year_Group.reset_index(inplace=True)\n",
    "\n",
    "    Figure_count_line = px.line(Map_User_Year_Group, x = 'States', y = ['RegisteredUsers_count', 'AppOpens_count'],\n",
    "                                    title= f'{year} REGISTERED USER COUNT AND APP OPENS COUNT', width= 1000, height= 700, markers= True)\n",
    "    Figure_count_line.show()    \n",
    "    \n",
    "    return Map_User_Year"
   ]
  },
  {
   "cell_type": "code",
   "execution_count": 32,
   "metadata": {},
   "outputs": [],
   "source": [
    "# Map user quarter wise\n",
    "def Map_User_Quarter_Wise_Plot(df, quarter):\n",
    "    Map_User_Year_Quarter = df[df['Quarters'] == quarter]\n",
    "    Map_User_Year_Quarter.reset_index(drop= True, inplace= True)\n",
    "\n",
    "    Map_User_Year_Quarter_Group = pd.DataFrame(Map_User_Year_Quarter.groupby('States')[['RegisteredUsers_count', 'AppOpens_count']].sum())\n",
    "    Map_User_Year_Quarter_Group.reset_index(inplace= True)\n",
    "\n",
    "    Figure_count_line = px.line(Map_User_Year_Quarter_Group, x = 'States', y = ['RegisteredUsers_count', 'AppOpens_count'],\n",
    "                                        title= f\"{df['Years'].min()} YEAR {quarter} REGISTERED USER COUNT AND APP OPENS COUNT\", width= 1000, height= 700, markers= True)\n",
    "    Figure_count_line.show()    \n",
    "\n",
    "    return Map_User_Year_Quarter"
   ]
  },
  {
   "cell_type": "code",
   "execution_count": 33,
   "metadata": {},
   "outputs": [],
   "source": [
    "# Map user state wise\n",
    "def Map_User_State_Wise_Plot(df, state):\n",
    "    Map_User_Year_Quarter_State = df[df['States'] == state]\n",
    "    Map_User_Year_Quarter_State.reset_index(drop= True, inplace= True)\n",
    "\n",
    "    Figure_MapUser_bar_1 = px.bar(Map_User_Year_Quarter_State, x= 'District', y= 'RegisteredUsers_count', title= 'DISTRICT AND REGISTERED USER COUNT',\n",
    "                                color_discrete_sequence= px.colors.sequential.Rainbow_r, width= 800, height= 600)\n",
    "    Figure_MapUser_bar_1.show()\n",
    "\n",
    "    Figure_MapUser_bar_2 = px.bar(Map_User_Year_Quarter_State, x= 'District', y= 'AppOpens_count', title= 'DISTRICT AND APP OPENS COUNT',\n",
    "                                color_discrete_sequence= px.colors.sequential.Rainbow, width= 800, height= 600)\n",
    "    Figure_MapUser_bar_2.show()"
   ]
  },
  {
   "cell_type": "code",
   "execution_count": 34,
   "metadata": {},
   "outputs": [],
   "source": [
    "# Top Insurance Quarters Pincode wise\n",
    "def Top_Insurance_Quarters_Pincode_Wise_Plot(df, states):\n",
    "    Top_Insurance_Year = df[df['States'] == states]\n",
    "    Top_Insurance_Year.reset_index(drop= True, inplace= True)\n",
    "\n",
    "    # Top_Insurance_Year_Group =pd.DataFrame(Top_Insurance_Year.groupby('Pincode')[['Transaction_count', 'Transaction_amount']].sum())\n",
    "    # Top_Insurance_Year_Group.reset_index(inplace=True)\n",
    "\n",
    "    Figure_Top_Ins_bar_1 = px.bar(Top_Insurance_Year, x= 'Quarters', y= 'Transaction_count', hover_data= 'Pincode',\n",
    "                                title= 'PINCODE WITH TRANSACTION COUNT', color_discrete_sequence= px.colors.sequential.Rainbow_r)\n",
    "    Figure_Top_Ins_bar_1.show()\n",
    "    \n",
    "    Figure_Top_Ins_bar_2 = px.bar(Top_Insurance_Year, x= 'Quarters', y= 'Transaction_amount', hover_data= 'Pincode',\n",
    "                                title= 'PINCODE WITH TRANSACTION COUNT', color_discrete_sequence= px.colors.sequential.Rainbow)\n",
    "    Figure_Top_Ins_bar_2.show()"
   ]
  },
  {
   "cell_type": "code",
   "execution_count": 35,
   "metadata": {},
   "outputs": [],
   "source": [
    "# Top user year wise\n",
    "def Top_User_Year_Quarters_Wise_Plot(df, year):\n",
    "    Top_User_Year = df[df['Years'] == year]\n",
    "    Top_User_Year.reset_index(drop= True, inplace= True)\n",
    "\n",
    "    Top_User_Year_Quarter_Group =pd.DataFrame(Top_User_Year.groupby(['States', 'Quarters'])['RegisteredUsers'].sum())\n",
    "    Top_User_Year_Quarter_Group.reset_index(inplace=True)\n",
    "\n",
    "    Figure_Top_User_bar_1 = px.bar(Top_User_Year_Quarter_Group, x= 'States', y= 'RegisteredUsers', color= 'Quarters', \n",
    "                                   title= f'{year} REGISTER USER COUNT', color_discrete_sequence= px.colors.sequential.Burgyl_r, height= 600)\n",
    "    Figure_Top_User_bar_1.show()\n",
    "    \n",
    "    return Top_User_Year"
   ]
  },
  {
   "cell_type": "code",
   "execution_count": 36,
   "metadata": {},
   "outputs": [],
   "source": [
    "# Top user States Pincode Quarter wise\n",
    "def Top_User_States_Wise_Plot(df, state):\n",
    "    Top_User_Year_States = df[df['States'] == state]\n",
    "    Top_User_Year_States.reset_index(drop= True, inplace= True)\n",
    "\n",
    "    Figure_Top_User_bar_2 = px.bar(Top_User_Year_States, x= 'Quarters', y= 'RegisteredUsers', color= 'RegisteredUsers', hover_data= 'Pincode',\n",
    "                                    title= f'{state} REGISTER USER COUNT, QUARTER AND PINCODE', color_continuous_scale= px.colors.sequential.Magenta)\n",
    "    Figure_Top_User_bar_2.show()"
   ]
  },
  {
   "cell_type": "markdown",
   "metadata": {},
   "source": [
    "### Aggre_insurance "
   ]
  },
  {
   "cell_type": "code",
   "execution_count": 37,
   "metadata": {},
   "outputs": [],
   "source": [
    "# T_A_C_Y =Transaction_of_Amount_Count_Year(Aggre_insurance, 2023)"
   ]
  },
  {
   "cell_type": "code",
   "execution_count": 38,
   "metadata": {},
   "outputs": [],
   "source": [
    "# Transaction_of_Amount_Count_Year_Quarter(T_A_C_Y, 3)"
   ]
  },
  {
   "cell_type": "markdown",
   "metadata": {},
   "source": [
    "### Aggre_transaction"
   ]
  },
  {
   "cell_type": "code",
   "execution_count": 39,
   "metadata": {},
   "outputs": [],
   "source": [
    "# Aggre_Trans_T_A_C_Y = Transaction_of_Amount_Count_Year(Aggre_transaction, 2023)"
   ]
  },
  {
   "cell_type": "code",
   "execution_count": 40,
   "metadata": {},
   "outputs": [],
   "source": [
    "# Aggre_Trans_Transaction_Type(Aggre_Trans_T_A_C_Y, 'Andaman & Nicobar')"
   ]
  },
  {
   "cell_type": "code",
   "execution_count": 41,
   "metadata": {},
   "outputs": [],
   "source": [
    "# Aggre_Trans_T_A_C_Y_Q = Transaction_of_Amount_Count_Year_Quarter(Aggre_Trans_T_A_C_Y, 3)"
   ]
  },
  {
   "cell_type": "code",
   "execution_count": 42,
   "metadata": {},
   "outputs": [],
   "source": [
    "# Aggre_Trans_Transaction_Type(Aggre_Trans_T_A_C_Y_Q, 'Tamil Nadu')"
   ]
  },
  {
   "cell_type": "code",
   "execution_count": 43,
   "metadata": {},
   "outputs": [],
   "source": [
    "# Aggre_Trans_T_A_C_Y_Q['states'].unique()"
   ]
  },
  {
   "cell_type": "markdown",
   "metadata": {},
   "source": [
    "### Aggre_user"
   ]
  },
  {
   "cell_type": "code",
   "execution_count": 44,
   "metadata": {},
   "outputs": [],
   "source": [
    "# Aggre_User_Yr = Aggre_User_Year_Wise_Plot(Aggre_user, 2020)\n"
   ]
  },
  {
   "cell_type": "code",
   "execution_count": 45,
   "metadata": {},
   "outputs": [],
   "source": [
    "\n",
    "# Aggre_User_Y_Qr = Aggre_User_Quarter_Wise_Plot(Aggre_User_Yr, 2)\n"
   ]
  },
  {
   "cell_type": "code",
   "execution_count": 46,
   "metadata": {},
   "outputs": [],
   "source": [
    "# Aggre_User_State_Wise_Plot(Aggre_User_Y_Qr, 'Tamil Nadu')"
   ]
  },
  {
   "cell_type": "markdown",
   "metadata": {},
   "source": [
    "### Map Insurance"
   ]
  },
  {
   "cell_type": "code",
   "execution_count": 47,
   "metadata": {},
   "outputs": [],
   "source": [
    "# Map_insurance_T_A_C_Y = Transaction_of_Amount_Count_Year(MAP_INSURANCE, 2023)"
   ]
  },
  {
   "cell_type": "code",
   "execution_count": 48,
   "metadata": {},
   "outputs": [],
   "source": [
    "# Map_Insurance_District(Map_insurance_T_A_C_Y, 'Tamil Nadu')"
   ]
  },
  {
   "cell_type": "code",
   "execution_count": 49,
   "metadata": {},
   "outputs": [],
   "source": [
    "# Map_insurance_T_A_C_Y_Q = Transaction_of_Amount_Count_Year_Quarter(Map_insurance_T_A_C_Y, 3)"
   ]
  },
  {
   "cell_type": "code",
   "execution_count": 50,
   "metadata": {},
   "outputs": [],
   "source": [
    "# Map_Insurance_District(Map_insurance_T_A_C_Y_Q, 'Tamil Nadu')"
   ]
  },
  {
   "cell_type": "markdown",
   "metadata": {},
   "source": [
    "### Map Transaction"
   ]
  },
  {
   "cell_type": "code",
   "execution_count": 51,
   "metadata": {},
   "outputs": [],
   "source": [
    "# Map_transaction_T_A_C_Y = Transaction_of_Amount_Count_Year(MAP_TRANSACTION, 2022)"
   ]
  },
  {
   "cell_type": "code",
   "execution_count": 52,
   "metadata": {},
   "outputs": [],
   "source": [
    "# Map_Insurance_District(Map_transaction_T_A_C_Y, 'Tamil Nadu')"
   ]
  },
  {
   "cell_type": "code",
   "execution_count": 53,
   "metadata": {},
   "outputs": [],
   "source": [
    "# Map_transaction_T_A_C_Y_Q = Transaction_of_Amount_Count_Year_Quarter(Map_transaction_T_A_C_Y, 2)"
   ]
  },
  {
   "cell_type": "code",
   "execution_count": 54,
   "metadata": {},
   "outputs": [],
   "source": [
    "# Map_Insurance_District(Map_transaction_T_A_C_Y_Q, 'Tamil Nadu')"
   ]
  },
  {
   "cell_type": "markdown",
   "metadata": {},
   "source": [
    "### Map User"
   ]
  },
  {
   "cell_type": "code",
   "execution_count": 55,
   "metadata": {},
   "outputs": [],
   "source": [
    "\n",
    "# Map_User_Year = Map_User_Year_Wise_Plot(MAP_USER, 2020) \n",
    "        "
   ]
  },
  {
   "cell_type": "code",
   "execution_count": 56,
   "metadata": {},
   "outputs": [],
   "source": [
    "# Map_User_Year_Quarter = Map_User_Quarter_Wise_Plot(Map_User_Year, 2)"
   ]
  },
  {
   "cell_type": "code",
   "execution_count": 57,
   "metadata": {},
   "outputs": [],
   "source": [
    "# Map_User_State_Wise_Plot(Map_User_Year_Quarter, 'Tamil Nadu')"
   ]
  },
  {
   "cell_type": "markdown",
   "metadata": {},
   "source": [
    "### Top Insurance"
   ]
  },
  {
   "cell_type": "code",
   "execution_count": 58,
   "metadata": {},
   "outputs": [],
   "source": [
    "# Top_Insurance_T_A_C_Y = Transaction_of_Amount_Count_Year(TOP_INSURANCE, 2021)"
   ]
  },
  {
   "cell_type": "code",
   "execution_count": 59,
   "metadata": {},
   "outputs": [],
   "source": [
    "# Top_Insurance_Quarters_Pincode_Wise_Plot(TOP_INSURANCE, 'Tamil Nadu')\n"
   ]
  },
  {
   "cell_type": "code",
   "execution_count": 60,
   "metadata": {},
   "outputs": [],
   "source": [
    "# Top_Insurance_T_A_C_Y_Q = Transaction_of_Amount_Count_Year_Quarter(Top_Insurance_T_A_C_Y, 3)"
   ]
  },
  {
   "cell_type": "markdown",
   "metadata": {},
   "source": [
    "### Top Transaction"
   ]
  },
  {
   "cell_type": "code",
   "execution_count": 61,
   "metadata": {},
   "outputs": [],
   "source": [
    "# Top_Transaction_T_A_C_Y = Transaction_of_Amount_Count_Year(TOP_TRANSACTION, 2021)\n"
   ]
  },
  {
   "cell_type": "code",
   "execution_count": 62,
   "metadata": {},
   "outputs": [],
   "source": [
    "# Top_Insurance_Quarters_Pincode_Wise_Plot(Top_Transaction_T_A_C_Y, 'Tamil Nadu')"
   ]
  },
  {
   "cell_type": "code",
   "execution_count": 63,
   "metadata": {},
   "outputs": [],
   "source": [
    "# Top_Transaction_T_A_C_Y_Q = Transaction_of_Amount_Count_Year_Quarter(Top_Transaction_T_A_C_Y, 3)"
   ]
  },
  {
   "cell_type": "markdown",
   "metadata": {},
   "source": [
    "### Top User"
   ]
  },
  {
   "cell_type": "code",
   "execution_count": 64,
   "metadata": {},
   "outputs": [],
   "source": [
    "# Top_User_T_A_C_Y = Top_User_Year_Quarters_Wise_Plot(TOP_USER, 2023)\n"
   ]
  },
  {
   "cell_type": "code",
   "execution_count": 65,
   "metadata": {},
   "outputs": [],
   "source": [
    "# Top_User_T_A_C_Y_S = Top_User_States_Wise_Plot(Top_User_T_A_C_Y, 'Tamil Nadu')"
   ]
  }
 ],
 "metadata": {
  "kernelspec": {
   "display_name": ".venv",
   "language": "python",
   "name": "python3"
  },
  "language_info": {
   "codemirror_mode": {
    "name": "ipython",
    "version": 3
   },
   "file_extension": ".py",
   "mimetype": "text/x-python",
   "name": "python",
   "nbconvert_exporter": "python",
   "pygments_lexer": "ipython3",
   "version": "3.13.2"
  }
 },
 "nbformat": 4,
 "nbformat_minor": 2
}
